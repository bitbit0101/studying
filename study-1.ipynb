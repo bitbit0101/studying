{
 "cells": [
  {
   "cell_type": "code",
   "execution_count": 1,
   "metadata": {},
   "outputs": [
    {
     "name": "stdout",
     "output_type": "stream",
     "text": [
      "hello world!\n"
     ]
    }
   ],
   "source": [
    "print(\"hello world!\")"
   ]
  },
  {
   "cell_type": "code",
   "execution_count": 5,
   "metadata": {},
   "outputs": [
    {
     "name": "stdout",
     "output_type": "stream",
     "text": [
      "7\n",
      "-1\n",
      "12\n",
      "0.75\n"
     ]
    }
   ],
   "source": [
    "a=3\n",
    "b=4\n",
    "print(a+b)\n",
    "print(a-b)\n",
    "print(a*b)\n",
    "print(a/b)"
   ]
  },
  {
   "cell_type": "code",
   "execution_count": 10,
   "metadata": {},
   "outputs": [
    {
     "name": "stdout",
     "output_type": "stream",
     "text": [
      "22.20408163265306\n"
     ]
    }
   ],
   "source": [
    "height=175\n",
    "weight=68\n",
    "print(weight/(height/100)**2)"
   ]
  },
  {
   "cell_type": "code",
   "execution_count": 19,
   "metadata": {},
   "outputs": [
    {
     "name": "stdout",
     "output_type": "stream",
     "text": [
      "수서역에서 익산역까지 걸리는 시간은 80분이며, 운임요금은 30000원입니다.\n"
     ]
    }
   ],
   "source": [
    "start='수서역'\n",
    "end='익산역'\n",
    "duration=80\n",
    "price=30000\n",
    "print(f\"{start}에서 {end}까지 걸리는 시간은 {duration}분이며, 운임요금은 {price}원입니다.\")"
   ]
  },
  {
   "cell_type": "code",
   "execution_count": 23,
   "metadata": {},
   "outputs": [
    {
     "name": "stdout",
     "output_type": "stream",
     "text": [
      "10\n"
     ]
    }
   ],
   "source": [
    "a=int(input())\n",
    "b=int(input())\n",
    "\n",
    "print(a+b)"
   ]
  },
  {
   "cell_type": "code",
   "execution_count": 32,
   "metadata": {},
   "outputs": [
    {
     "name": "stdout",
     "output_type": "stream",
     "text": [
      "거스름 돈: 9998\n",
      "천 원 지폐 9장\n",
      "오백원 동전 1개\n",
      "백원 동전 4개\n",
      "오십원 동전 1개\n",
      "십원 동전 4개\n"
     ]
    }
   ],
   "source": [
    "a=int(input())\n",
    "b=int(input())\n",
    "\n",
    "print(f\"\"\"거스름 돈: {(a-b)}\n",
    "천 원 지폐 {(a-b)//1000}장\"\"\")\n",
    "c=(a-b)%1000\n",
    "print(f\"오백원 동전 {c//500}개\")\n",
    "c=(c%500)\n",
    "print(f\"백원 동전 {c//100}개\")\n",
    "c=(c%100)\n",
    "print(f\"오십원 동전 {c//50}개\")\n",
    "c=(c%50)\n",
    "print(f\"십원 동전 {c//10}개\")\n",
    "\n"
   ]
  },
  {
   "cell_type": "code",
   "execution_count": 33,
   "metadata": {},
   "outputs": [
    {
     "name": "stdout",
     "output_type": "stream",
     "text": [
      "BMI : 6530.6122448979595\n",
      "비만\n"
     ]
    }
   ],
   "source": [
    "height=175\n",
    "weight=20000\n",
    "print(f\"BMI : {weight/(height/100)**2}\")\n",
    "BMI=weight/(height/100)**2\n",
    "\n",
    "if BMI <= 18.5:\n",
    "    print(\"저체중\")\n",
    "elif BMI <= 22.9 and BMI >= 18.5:\n",
    "    print(\"정상\")\n",
    "elif BMI <= 24.9 and BMI >= 22.9:\n",
    "    print(\"과체중\")\n",
    "else:\n",
    "    print(\"비만\")\n",
    "\n"
   ]
  },
  {
   "cell_type": "code",
   "execution_count": 56,
   "metadata": {},
   "outputs": [
    {
     "name": "stdout",
     "output_type": "stream",
     "text": [
      "2 X 1 = 2\n",
      "2 X 2 = 4\n",
      "2 X 3 = 6\n",
      "2 X 4 = 8\n",
      "2 X 5 = 10\n",
      "2 X 6 = 12\n",
      "2 X 7 = 14\n",
      "2 X 8 = 16\n",
      "2 X 9 = 18\n"
     ]
    }
   ],
   "source": [
    "a=0\n",
    "while a<9:\n",
    "    a=a+1\n",
    "    print(f\"2 X {a} = {2*a}\")"
   ]
  },
  {
   "cell_type": "code",
   "execution_count": 72,
   "metadata": {},
   "outputs": [
    {
     "name": "stdout",
     "output_type": "stream",
     "text": [
      "*\n",
      "**\n",
      "***\n",
      "****\n",
      "*****\n"
     ]
    }
   ],
   "source": [
    "a=1\n",
    "while a<6:\n",
    "     print(\"*\" * a)\n",
    "     a=a+1"
   ]
  },
  {
   "cell_type": "code",
   "execution_count": 107,
   "metadata": {},
   "outputs": [
    {
     "name": "stdout",
     "output_type": "stream",
     "text": [
      "*\n",
      "**\n",
      "***\n",
      "****\n",
      "*****\n"
     ]
    }
   ],
   "source": [
    "for i in range(1, 6):\n",
    "    for j in range(i):\n",
    "        print('*', end=(''))\n",
    "    print()"
   ]
  }
 ],
 "metadata": {
  "kernelspec": {
   "display_name": "Python 3",
   "language": "python",
   "name": "python3"
  },
  "language_info": {
   "codemirror_mode": {
    "name": "ipython",
    "version": 3
   },
   "file_extension": ".py",
   "mimetype": "text/x-python",
   "name": "python",
   "nbconvert_exporter": "python",
   "pygments_lexer": "ipython3",
   "version": "3.10.10"
  },
  "orig_nbformat": 4
 },
 "nbformat": 4,
 "nbformat_minor": 2
}
